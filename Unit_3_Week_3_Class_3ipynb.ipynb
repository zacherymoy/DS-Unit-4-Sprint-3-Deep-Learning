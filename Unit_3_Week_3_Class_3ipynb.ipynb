{
  "nbformat": 4,
  "nbformat_minor": 0,
  "metadata": {
    "colab": {
      "name": "Unit 3 Week 3 Class 3ipynb",
      "provenance": [],
      "authorship_tag": "ABX9TyOXgNfDtPlIboTYbU7papbn",
      "include_colab_link": true
    },
    "kernelspec": {
      "name": "python3",
      "display_name": "Python 3"
    }
  },
  "cells": [
    {
      "cell_type": "markdown",
      "metadata": {
        "id": "view-in-github",
        "colab_type": "text"
      },
      "source": [
        "<a href=\"https://colab.research.google.com/github/zacherymoy/DS-Unit-4-Sprint-3-Deep-Learning/blob/master/Unit_3_Week_3_Class_3ipynb.ipynb\" target=\"_parent\"><img src=\"https://colab.research.google.com/assets/colab-badge.svg\" alt=\"Open In Colab\"/></a>"
      ]
    },
    {
      "cell_type": "code",
      "metadata": {
        "id": "2Rl2EuXzvBpK",
        "colab_type": "code",
        "colab": {}
      },
      "source": [
        ""
      ],
      "execution_count": 0,
      "outputs": []
    },
    {
      "cell_type": "markdown",
      "metadata": {
        "id": "WleCgNtIvClm",
        "colab_type": "text"
      },
      "source": [
        "What will we do with people who will get laid off due to AI and automation taking over jobs? \n",
        "\n",
        "Will AI turn into the new arms wars? There were fears in the 80s that the world would be blown up. "
      ]
    }
  ]
}